{
 "cells": [
  {
   "cell_type": "markdown",
   "id": "e0775cbc",
   "metadata": {},
   "source": [
    "### References\n",
    "\n",
    "* https://faculty.washington.edu/chudler/java/ready.html\n",
    "* https://en.wikipedia.org/wiki/Stroop_effect\n",
    "* https://github.com/simrankoul/Test-A-Perceptual-Phenomenon\n",
    "* https://github.com/abodacs/Test-a-Perceptual-Phenomenon\n",
    "* https://github.com/Shreyas3108/Test-a-perceptual-phenomenon\n",
    "* https://stackoverflow.com/questions/9031783/hide-all-warnings-in-ipython\n",
    "* https://www.statisticshowto.com/probability-and-statistics/hypothesis-testing/t-score-vs-z-score/\n",
    "* http://www.psychology.emory.edu/clinical/bliwise/Tutorials/TOM/meanstests/assump.htm\n",
    "* https://www.jmp.com/en_nl/statistics-knowledge-portal/t-test/paired-t-test.html\n",
    "\n"
   ]
  }
 ],
 "metadata": {
  "kernelspec": {
   "display_name": "Python 3",
   "language": "python",
   "name": "python3"
  },
  "language_info": {
   "codemirror_mode": {
    "name": "ipython",
    "version": 3
   },
   "file_extension": ".py",
   "mimetype": "text/x-python",
   "name": "python",
   "nbconvert_exporter": "python",
   "pygments_lexer": "ipython3",
   "version": "3.8.8"
  }
 },
 "nbformat": 4,
 "nbformat_minor": 5
}
