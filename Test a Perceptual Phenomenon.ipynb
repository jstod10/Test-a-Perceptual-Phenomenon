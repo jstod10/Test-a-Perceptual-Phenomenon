{
 "cells": [
  {
   "cell_type": "markdown",
   "id": "f22d183d",
   "metadata": {},
   "source": [
    "### Background Information\n",
    "\n",
    "In a Stroop task, participants are presented with a list of words, with each word displayed in a color of ink. The participant’s task is to say out loud the color of the ink in which the word is printed. The task has two conditions: a congruent words condition, and an incongruent words condition. \n",
    "\n",
    "In the congruent words condition, the words being displayed are color words whose names match the colors in which they are printed. \n",
    "\n",
    "In the incongruent words condition, the words displayed are color words whose names do not match the colors in which they are printed. \n",
    "\n",
    "In each case, we measure the time it takes to name the ink colors in equally-sized lists. Each participant will go through and record a time from each condition.\n",
    "\n",
    "### Purpose of Task\n",
    "\n",
    "Investigate a classic phenomenon from experimental psychology called the Stroop Effect using inferential statistics.  Outline the statistical investigation from start to finish and report findings along the way.  Provide justifications for reasonings that support findings. \n",
    "\n",
    "### Variable Identification\n",
    "\n",
    "* Independent Variable - 'Congruent' or 'Incongruent' condition\n",
    "* Dependent Variable - Time it takes to write the word\n",
    "\n",
    "### Hypotheses\n",
    "\n",
    "*The incongruent task will take longer than the congruent task because the combinations are not natural and, therefore, the taker requires more response time to process the information.*\n",
    "\n",
    "* Null Hypothesis (H0) - No change in time between completion of both tasks\n",
    "* Alternate Hypothesis (H1) - The incongruent task will take longer\n",
    "\n",
    "#### Calculation Methods\n",
    "\n",
    "* H0 = μi ≤ μc (μi - population mean of incongruent values, μc - population mean of congruent values)\n",
    "* H1 = μi > μc (μi - population mean of incongruent values, μc - population mean of congruent values)\n",
    "\n",
    "### Statistical Test\n",
    "\n",
    "A t-score was calculated to test my alternate hypothesis against the null hypothesis.  The critical value of the null hypothesis was calculated to use as a baseline for comparison (using a confidence level of 95% and a degree of freedom of 23).  \n",
    "\n",
    "I chose the *t-score for dependent means (paired t-test)* because the provided dataset contained fewer than 30 records, the data values were paired measurements, and the population standard deviation was unknown.  Both sets of values were also (mostly) normally distributed.\n",
    "\n",
    "* Standard deviation of differences between 'Congruent' and 'Incongruent' datasets: 4.8\n",
    "* Mean of differences between 'Congruent' and 'Incongruent' datasets: 7.97\n",
    "\n",
    "I calculated the t-score by first finding the standard deviation of the difference between 'Congruent' and 'Incongruent' results.  Then, I calculated the mean of the difference between both data sets.  Finally, I created a script to replicate the formula to calculate the t-stat score using those values. \n",
    "\n",
    "#### Formula for creation of t-score\n",
    "\n",
    "* t_stat = mean_dif/(std_dif/math.sqrt(df.shape[0]))\n",
    "\n",
    "### Results\n",
    "\n",
    "* Critical Value of null hypothesis - 1.71\n",
    "* t-score value of alternate hypothesis - 8.02\n",
    "\n",
    "#### Interpretation\n",
    "\n",
    "The t-score of 8.02 is significantly higher than the 1.71 critical value of the null hypothesis.  This difference allows for the *rejection of the null hypothesis*, as the results clearly align with my initial hypothesis that 'Incongruent' times would be longer on average than 'Congruent' baselines.  \n",
    "\n",
    "It makes both hypothetical and logical sense that interpreting unnatural relationships would require the human brain to take more time to process the information.  Thus, the Stroop test is clearly an effective measurement of how quickly an individual can process information.  \n",
    "\n",
    "There is a well-defined relationship between the 'Congruent' and 'Incongruent' results, as 'Incongruent' tests repeatedly took longer.  Also, the relative word condition clearly has as influence on the test, as 'Incongruent' values were interpreted more slowly and with greater variance (as represented by the slightly skewed distribution of 'Incongruent' data highlighted in the histogram).\n",
    "\n",
    "In conclusion, the results absolutely matched my expectations coming in to the exercise.  There was a tangible difference in data sets and a pattern emerged that showed the 'Incongruent' tests would take significantly longer on average than 'Congruent' testing.\n",
    "  "
   ]
  },
  {
   "cell_type": "code",
   "execution_count": 14,
   "id": "d9f81977",
   "metadata": {},
   "outputs": [],
   "source": [
    "import math\n",
    "import pandas as pd\n",
    "import numpy as np\n",
    "import seaborn as sns\n",
    "import scipy\n",
    "from scipy.stats import t\n",
    "%matplotlib inline\n",
    "import matplotlib.pyplot as plt\n",
    "import math\n",
    "%matplotlib inline"
   ]
  },
  {
   "cell_type": "code",
   "execution_count": 15,
   "id": "4b949e6a",
   "metadata": {},
   "outputs": [],
   "source": [
    "import warnings\n",
    "warnings.filterwarnings('ignore')"
   ]
  },
  {
   "cell_type": "markdown",
   "id": "ce2cfb99",
   "metadata": {},
   "source": [
    "Import CSV file containing stroop data and reporting of some descriptive statistics:"
   ]
  },
  {
   "cell_type": "code",
   "execution_count": 16,
   "id": "ed8b0966",
   "metadata": {},
   "outputs": [
    {
     "name": "stdout",
     "output_type": "stream",
     "text": [
      "Congruent      14.051125\n",
      "Incongruent    22.015917\n",
      "dtype: float64\n",
      "Congruent      3.559358\n",
      "Incongruent    4.797057\n",
      "dtype: float64\n",
      "standard deviation for congruent 3.484\n",
      "standard deviation for Incongruent 4.696\n"
     ]
    }
   ],
   "source": [
    "df = pd.read_csv('C:\\\\Users\\\\josep\\\\Downloads\\\\stroopdata.csv')\n",
    "\n",
    "# Print the mean and standard deviation for both columns\n",
    "\n",
    "print(df.mean(axis=0))\n",
    "print(df.std(axis=0))\n",
    "\n",
    "print(\"standard deviation for congruent {0:.3f}\".format(np.std(df['Congruent'].values)))\n",
    "print(\"standard deviation for Incongruent {0:.3f}\".format(np.std(df['Incongruent'].values)))"
   ]
  },
  {
   "cell_type": "code",
   "execution_count": 17,
   "id": "a96efc91",
   "metadata": {},
   "outputs": [
    {
     "data": {
      "text/html": [
       "<div>\n",
       "<style scoped>\n",
       "    .dataframe tbody tr th:only-of-type {\n",
       "        vertical-align: middle;\n",
       "    }\n",
       "\n",
       "    .dataframe tbody tr th {\n",
       "        vertical-align: top;\n",
       "    }\n",
       "\n",
       "    .dataframe thead th {\n",
       "        text-align: right;\n",
       "    }\n",
       "</style>\n",
       "<table border=\"1\" class=\"dataframe\">\n",
       "  <thead>\n",
       "    <tr style=\"text-align: right;\">\n",
       "      <th></th>\n",
       "      <th>Congruent</th>\n",
       "      <th>Incongruent</th>\n",
       "    </tr>\n",
       "  </thead>\n",
       "  <tbody>\n",
       "    <tr>\n",
       "      <th>count</th>\n",
       "      <td>24.000000</td>\n",
       "      <td>24.000000</td>\n",
       "    </tr>\n",
       "    <tr>\n",
       "      <th>mean</th>\n",
       "      <td>14.051125</td>\n",
       "      <td>22.015917</td>\n",
       "    </tr>\n",
       "    <tr>\n",
       "      <th>std</th>\n",
       "      <td>3.559358</td>\n",
       "      <td>4.797057</td>\n",
       "    </tr>\n",
       "    <tr>\n",
       "      <th>min</th>\n",
       "      <td>8.630000</td>\n",
       "      <td>15.687000</td>\n",
       "    </tr>\n",
       "    <tr>\n",
       "      <th>25%</th>\n",
       "      <td>11.895250</td>\n",
       "      <td>18.716750</td>\n",
       "    </tr>\n",
       "    <tr>\n",
       "      <th>50%</th>\n",
       "      <td>14.356500</td>\n",
       "      <td>21.017500</td>\n",
       "    </tr>\n",
       "    <tr>\n",
       "      <th>75%</th>\n",
       "      <td>16.200750</td>\n",
       "      <td>24.051500</td>\n",
       "    </tr>\n",
       "    <tr>\n",
       "      <th>max</th>\n",
       "      <td>22.328000</td>\n",
       "      <td>35.255000</td>\n",
       "    </tr>\n",
       "  </tbody>\n",
       "</table>\n",
       "</div>"
      ],
      "text/plain": [
       "       Congruent  Incongruent\n",
       "count  24.000000    24.000000\n",
       "mean   14.051125    22.015917\n",
       "std     3.559358     4.797057\n",
       "min     8.630000    15.687000\n",
       "25%    11.895250    18.716750\n",
       "50%    14.356500    21.017500\n",
       "75%    16.200750    24.051500\n",
       "max    22.328000    35.255000"
      ]
     },
     "execution_count": 17,
     "metadata": {},
     "output_type": "execute_result"
    }
   ],
   "source": [
    "df.describe()"
   ]
  },
  {
   "cell_type": "markdown",
   "id": "494106c0",
   "metadata": {},
   "source": [
    "Confirmed information as outlined in initial query. "
   ]
  },
  {
   "cell_type": "code",
   "execution_count": 18,
   "id": "f8684f24",
   "metadata": {},
   "outputs": [
    {
     "data": {
      "text/plain": [
       "<AxesSubplot:xlabel='Congruent', ylabel='Density'>"
      ]
     },
     "execution_count": 18,
     "metadata": {},
     "output_type": "execute_result"
    },
    {
     "data": {
      "image/png": "[encoded data removed]",
      "text/plain": [
       "<Figure size 432x288 with 1 Axes>"
      ]
     },
     "metadata": {
      "needs_background": "light"
     },
     "output_type": "display_data"
    }
   ],
   "source": [
    "sns.distplot(df['Congruent'])"
   ]
  },
  {
   "cell_type": "markdown",
   "id": "18ce6f8d",
   "metadata": {},
   "source": [
    "Normal distribution of \"Congruent\" data, with the mean coming in at roughly 14. "
   ]
  },
  {
   "cell_type": "code",
   "execution_count": 19,
   "id": "b8f29a72",
   "metadata": {},
   "outputs": [
    {
     "data": {
      "text/plain": [
       "<AxesSubplot:xlabel='Incongruent', ylabel='Density'>"
      ]
     },
     "execution_count": 19,
     "metadata": {},
     "output_type": "execute_result"
    },
    {
     "data": {
      "image/png": "[encoded data removed]",
      "text/plain": [
       "<Figure size 432x288 with 1 Axes>"
      ]
     },
     "metadata": {
      "needs_background": "light"
     },
     "output_type": "display_data"
    }
   ],
   "source": [
    "sns.distplot(df['Incongruent'])"
   ]
  },
  {
   "cell_type": "markdown",
   "id": "c10c82e2",
   "metadata": {},
   "source": [
    "Mostly normal distribution of \"Incongruent\" data, with a slight bimodal peak on the right.  The primary peak appears at roughly 21.   "
   ]
  },
  {
   "cell_type": "code",
   "execution_count": 20,
   "id": "70600251",
   "metadata": {},
   "outputs": [
    {
     "data": {
      "text/plain": [
       "Text(0.5, 1.0, 'Boxplot plot for Incongruent')"
      ]
     },
     "execution_count": 20,
     "metadata": {},
     "output_type": "execute_result"
    },
    {
     "data": {
      "image/png": "[encoded data removed]",
      "text/plain": [
       "<Figure size 432x288 with 2 Axes>"
      ]
     },
     "metadata": {
      "needs_background": "light"
     },
     "output_type": "display_data"
    }
   ],
   "source": [
    "fig, axs = plt.subplots(1,2,)\n",
    "g = sns.boxplot(df['Congruent'],ax=axs[0])\n",
    "g.set_title(\"Boxplot for Congruent\")\n",
    "h = sns.boxplot(df['Incongruent'],ax = axs[1])\n",
    "h.set_title(\"Boxplot plot for Incongruent\")"
   ]
  },
  {
   "cell_type": "markdown",
   "id": "00ebce03",
   "metadata": {},
   "source": [
    "Boxplot visuals confirm both means and highlight outliers in Incongruent data. "
   ]
  },
  {
   "cell_type": "code",
   "execution_count": 21,
   "id": "13394940",
   "metadata": {},
   "outputs": [
    {
     "data": {
      "text/plain": [
       "1.7138715277470473"
      ]
     },
     "execution_count": 21,
     "metadata": {},
     "output_type": "execute_result"
    }
   ],
   "source": [
    "# t-critical value for a 95% confidence level and 23 degree of freedom\n",
    "\n",
    "t.ppf(.95, 23)"
   ]
  },
  {
   "cell_type": "code",
   "execution_count": 22,
   "id": "474e2551",
   "metadata": {},
   "outputs": [
    {
     "name": "stdout",
     "output_type": "stream",
     "text": [
      "Standard deviation of differences: 4.8648\n"
     ]
    }
   ],
   "source": [
    "# Find the standard deviation of the difference between congruent and incongruent data\n",
    "\n",
    "df['Difference'] = df['Congruent'] - df['Incongruent']\n",
    "print(\"Standard deviation of differences: {0:.4f}\".format(df['Difference'].std(axis=0)))"
   ]
  },
  {
   "cell_type": "code",
   "execution_count": 23,
   "id": "1328902c",
   "metadata": {},
   "outputs": [
    {
     "name": "stdout",
     "output_type": "stream",
     "text": [
      "Mean of differences:  7.9647916666666685\n"
     ]
    }
   ],
   "source": [
    "# Compute mean of differences\n",
    "\n",
    "mean_dif = df['Incongruent'].mean() - df['Congruent'].mean()\n",
    "print(\"Mean of differences: \", mean_dif)"
   ]
  },
  {
   "cell_type": "code",
   "execution_count": 24,
   "id": "ff79cebe",
   "metadata": {},
   "outputs": [
    {
     "name": "stdout",
     "output_type": "stream",
     "text": [
      "count    24.000000\n",
      "mean      7.964792\n",
      "std       4.864827\n",
      "min       1.950000\n",
      "25%       3.645500\n",
      "50%       7.666500\n",
      "75%      10.258500\n",
      "max      21.919000\n",
      "Name: dif, dtype: float64\n"
     ]
    }
   ],
   "source": [
    "df['dif'] = df['Incongruent'] - df['Congruent']\n",
    "print(df['dif'].describe())\n",
    "std_dif = df['dif'].describe()[2]"
   ]
  },
  {
   "cell_type": "markdown",
   "id": "3f816a56",
   "metadata": {},
   "source": [
    "Confirmed stats of differences."
   ]
  },
  {
   "cell_type": "code",
   "execution_count": 25,
   "id": "cb38f918",
   "metadata": {},
   "outputs": [],
   "source": [
    "# Formula for creation of t-score\n",
    "\n",
    "t_stat = mean_dif/(std_dif/math.sqrt(df.shape[0]))"
   ]
  },
  {
   "cell_type": "code",
   "execution_count": 26,
   "id": "12f71a7f",
   "metadata": {},
   "outputs": [
    {
     "data": {
      "text/plain": [
       "8.020706944109962"
      ]
     },
     "execution_count": 26,
     "metadata": {},
     "output_type": "execute_result"
    }
   ],
   "source": [
    "t_stat"
   ]
  },
  {
   "cell_type": "markdown",
   "id": "76eb0d07",
   "metadata": {},
   "source": [
    "### References\n",
    "\n",
    "* https://faculty.washington.edu/chudler/java/ready.html\n",
    "* https://en.wikipedia.org/wiki/Stroop_effect\n",
    "* https://github.com/simrankoul/Test-A-Perceptual-Phenomenon\n",
    "* https://github.com/abodacs/Test-a-Perceptual-Phenomenon\n",
    "* https://github.com/Shreyas3108/Test-a-perceptual-phenomenon\n",
    "* https://stackoverflow.com/questions/9031783/hide-all-warnings-in-ipython\n",
    "* https://www.statisticshowto.com/probability-and-statistics/hypothesis-testing/t-score-vs-z-score/\n",
    "* http://www.psychology.emory.edu/clinical/bliwise/Tutorials/TOM/meanstests/assump.htm\n",
    "* https://www.jmp.com/en_nl/statistics-knowledge-portal/t-test/paired-t-test.html\n"
   ]
  }
 ],
 "metadata": {
  "kernelspec": {
   "display_name": "Python 3",
   "language": "python",
   "name": "python3"
  },
  "language_info": {
   "codemirror_mode": {
    "name": "ipython",
    "version": 3
   },
   "file_extension": ".py",
   "mimetype": "text/x-python",
   "name": "python",
   "nbconvert_exporter": "python",
   "pygments_lexer": "ipython3",
   "version": "3.8.8"
  }
 },
 "nbformat": 4,
 "nbformat_minor": 5
}
