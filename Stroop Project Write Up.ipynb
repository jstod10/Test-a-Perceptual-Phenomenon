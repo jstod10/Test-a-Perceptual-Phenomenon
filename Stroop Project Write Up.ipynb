{
 "cells": [
  {
   "cell_type": "markdown",
   "id": "b70a498e",
   "metadata": {},
   "source": [
    "### Background Information\n",
    "\n",
    "In a Stroop task, participants are presented with a list of words, with each word displayed in a color of ink. The participant’s task is to say out loud the color of the ink in which the word is printed. The task has two conditions: a congruent words condition, and an incongruent words condition. \n",
    "\n",
    "In the congruent words condition, the words being displayed are color words whose names match the colors in which they are printed. \n",
    "\n",
    "In the incongruent words condition, the words displayed are color words whose names do not match the colors in which they are printed. \n",
    "\n",
    "In each case, we measure the time it takes to name the ink colors in equally-sized lists. Each participant will go through and record a time from each condition.\n",
    "\n",
    "### Purpose of Task\n",
    "\n",
    "Investigate a classic phenomenon from experimental psychology called the Stroop Effect using inferential statistics.  Outline the statistical investigation from start to finish and report findings along the way.  Provide justifications for reasonings that support findings. \n",
    "\n",
    "### Variable Identification\n",
    "\n",
    "* Independent Variable - 'Congruent' or 'Incongruent' condition\n",
    "* Dependent Variable - Time it takes to write the word\n",
    "\n",
    "### Hypotheses\n",
    "\n",
    "*The incongruent task will take longer than the congruent task because the combinations are not natural and, therefore, the taker requires more response time to process the information.*\n",
    "\n",
    "* Null Hypothesis (H0) - No change in time between completion of both tasks\n",
    "* Alternate Hypothesis (H1) - The incongruent task will take longer\n",
    "\n",
    "#### Calculation Methods\n",
    "\n",
    "* H0 = μi ≤ μc (μi - population mean of incongruent values, μc - population mean of congruent values)\n",
    "* H1 = μi > μc (μi - population mean of incongruent values, μc - population mean of congruent values)\n",
    "\n",
    "### Statistical Test\n",
    "\n",
    "A t-score was calculated in order to test my alternate hypothesis against the null hypothesis.  The critial value of the null hypothesis was calculated using a confidence level of 95% and a degree of freedom of 23.  \n",
    "\n",
    "I chose the t-score because the provided dataset contained fewer than 30 records and the population standard deviation was unkown.\n",
    "\n",
    "### Results\n",
    "\n",
    "* Critical Value of null hypothesis - 1.71\n",
    "* t-score value of alternate hypothesis - 8.02\n",
    "\n",
    "#### Interpretation\n",
    "\n",
    "The t-score of 8.02 is significantly higher than the critical value of the null hypothesis, which allows for the rejection of the null hypothesis.  "
   ]
  }
 ],
 "metadata": {
  "kernelspec": {
   "display_name": "Python 3",
   "language": "python",
   "name": "python3"
  },
  "language_info": {
   "codemirror_mode": {
    "name": "ipython",
    "version": 3
   },
   "file_extension": ".py",
   "mimetype": "text/x-python",
   "name": "python",
   "nbconvert_exporter": "python",
   "pygments_lexer": "ipython3",
   "version": "3.8.8"
  }
 },
 "nbformat": 4,
 "nbformat_minor": 5
}
